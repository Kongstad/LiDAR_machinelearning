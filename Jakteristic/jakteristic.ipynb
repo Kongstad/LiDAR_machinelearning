{
 "cells": [
  {
   "cell_type": "markdown",
   "id": "f9d75c40",
   "metadata": {},
   "source": [
    "## Calculating additional properties from existing LiDAR data\n",
    "\n",
    "#### By using the python module jakteristics found here: https://github.com/jakarto3d/jakteristics, it is possible to easily calculate additional parameters based on the existing LiDAR data and use them as features in the machine learning process. Such as verticality, planarity and omnivariance"
   ]
  },
  {
   "cell_type": "code",
   "execution_count": 1,
   "id": "ad9e0a9d",
   "metadata": {},
   "outputs": [],
   "source": [
    "import os\n",
    "from jakteristics import las_utils, compute_features, FEATURE_NAMES"
   ]
  },
  {
   "cell_type": "code",
   "execution_count": null,
   "id": "2b7a55db",
   "metadata": {},
   "outputs": [],
   "source": [
    "## Define input laz file and desired output\n",
    "data_folder = os.getcwd()\n",
    "input_path  = (data_folder+'/data/6172_723_SVKBH_color.laz')\n",
    "output_path = (data_folder+'/data/6172_723_SVKBH_color_jakted.laz')\n",
    "\n",
    "## If search radius is set at a too low value, data points may not be included. I recommend testing several values.\n",
    "xyz      = las_utils.read_las_xyz(input_path)\n",
    "features = compute_features(xyz, search_radius=0.70)\n",
    "las_utils.write_with_extra_dims(input_path, output_path, features, FEATURE_NAMES)"
   ]
  }
 ],
 "metadata": {
  "kernelspec": {
   "display_name": "Python 3 (ipykernel)",
   "language": "python",
   "name": "python3"
  },
  "language_info": {
   "codemirror_mode": {
    "name": "ipython",
    "version": 3
   },
   "file_extension": ".py",
   "mimetype": "text/x-python",
   "name": "python",
   "nbconvert_exporter": "python",
   "pygments_lexer": "ipython3",
   "version": "3.8.15"
  }
 },
 "nbformat": 4,
 "nbformat_minor": 5
}
